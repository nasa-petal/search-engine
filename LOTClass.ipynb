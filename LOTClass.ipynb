{
 "cells": [
  {
   "cell_type": "code",
   "execution_count": 1,
   "metadata": {
    "colab": {
     "base_uri": "https://localhost:8080/",
     "height": 206
    },
    "executionInfo": {
     "elapsed": 657,
     "status": "ok",
     "timestamp": 1638981157570,
     "user": {
      "displayName": "Brandon Ruffridge",
      "photoUrl": "https://lh3.googleusercontent.com/a/default-user=s64",
      "userId": "00595251339512511545"
     },
     "user_tz": 300
    },
    "id": "SOANKgADl3Wh",
    "outputId": "aa21bb1f-27e9-4273-f2a1-51e2012506b5"
   },
   "outputs": [],
   "source": [
    "import pandas as pd\n",
    "import warnings\n",
    "import os\n",
    "warnings.filterwarnings(\"ignore\")\n",
    "\n",
    "# Read in the cleaned data\n",
    "data_prefix = 'https://raw.githubusercontent.com/nasa-petal/search-engine/main/data/'\n",
    "df = pd.read_csv(data_prefix + 'cleaned.csv')\n",
    "\n",
    "# convert array strings to actual arrays\n",
    "from ast import literal_eval\n",
    "df['y'] = df['y'].apply(literal_eval)\n",
    "df.head()\n",
    "\n",
    "# Drop all non-feature columns\n",
    "df = df[['y','text']]"
   ]
  },
  {
   "cell_type": "code",
   "execution_count": 2,
   "metadata": {},
   "outputs": [],
   "source": [
    "from sklearn.model_selection import train_test_split"
   ]
  },
  {
   "cell_type": "code",
   "execution_count": 3,
   "metadata": {},
   "outputs": [],
   "source": [
    "df['word_count'] = df.text.apply(lambda x: len(x.split(\" \")))"
   ]
  },
  {
   "cell_type": "code",
   "execution_count": 4,
   "metadata": {},
   "outputs": [],
   "source": [
    "df = df[df.word_count > 50]"
   ]
  },
  {
   "cell_type": "code",
   "execution_count": 5,
   "metadata": {},
   "outputs": [],
   "source": [
    "X = df.text\n",
    "y = df.y"
   ]
  },
  {
   "cell_type": "code",
   "execution_count": 6,
   "metadata": {},
   "outputs": [],
   "source": [
    "X_train, X_test, y_train, y_test = train_test_split(X, y, test_size=0.2, random_state=42)"
   ]
  },
  {
   "cell_type": "code",
   "execution_count": 7,
   "metadata": {},
   "outputs": [],
   "source": [
    "lotclass_path = \"LOTClass/datasets/petal/\""
   ]
  },
  {
   "cell_type": "code",
   "execution_count": 8,
   "metadata": {},
   "outputs": [],
   "source": [
    "isExist = os.path.exists(lotclass_path)\n",
    "\n",
    "if not isExist:\n",
    "  os.makedirs(lotclass_path)"
   ]
  },
  {
   "cell_type": "code",
   "execution_count": 91,
   "metadata": {},
   "outputs": [],
   "source": [
    "labels = ['physically assemble disassemble',\n",
    "          'protect harm',\n",
    "          'sense send information',\n",
    "          'chemically modify energy state',\n",
    "          'maintain structural integrity',\n",
    "          'attach',\n",
    "          'move',\n",
    "          'process resources',\n",
    "          'sustain ecological community',\n",
    "          'change size color']"
   ]
  },
  {
   "cell_type": "code",
   "execution_count": 92,
   "metadata": {},
   "outputs": [],
   "source": [
    "file = open(lotclass_path + \"/label_names.txt\", \"w+\")\n",
    "for x in labels:\n",
    "    file.write(x)\n",
    "    file.write(\"\\n\")\n",
    "file.close()"
   ]
  },
  {
   "cell_type": "code",
   "execution_count": 83,
   "metadata": {},
   "outputs": [],
   "source": [
    "file = open(lotclass_path + \"/train.txt\", \"w+\")\n",
    "for x in X_train:\n",
    "    file.write(x.replace(\"||||| \", \"\"))\n",
    "    file.write(\"\\n\")\n",
    "file.close()"
   ]
  },
  {
   "cell_type": "code",
   "execution_count": 84,
   "metadata": {},
   "outputs": [],
   "source": [
    "file = open(lotclass_path + \"test.txt\", \"w+\")\n",
    "for x in X_test:\n",
    "    file.write(x.replace(\"||||| \", \"\"))\n",
    "    file.write(\"\\n\")\n",
    "file.close()"
   ]
  },
  {
   "cell_type": "code",
   "execution_count": 10,
   "metadata": {},
   "outputs": [],
   "source": [
    "file = open(lotclass_path + \"test_labels.txt\", \"w+\")\n",
    "y_true = []\n",
    "for y in y_test:\n",
    "    file.write(str(y.index(1)))\n",
    "    file.write(\"\\n\")\n",
    "    \n",
    "    y_true.append(y.index(1))\n",
    "file.close()"
   ]
  },
  {
   "cell_type": "code",
   "execution_count": 11,
   "metadata": {},
   "outputs": [],
   "source": [
    "## Run petal.sh to build the model and wait for out.txt to be created"
   ]
  },
  {
   "cell_type": "code",
   "execution_count": 12,
   "metadata": {},
   "outputs": [],
   "source": [
    "output = pd.read_csv(lotclass_path + \"out.txt\", header=None)"
   ]
  },
  {
   "cell_type": "code",
   "execution_count": 13,
   "metadata": {},
   "outputs": [],
   "source": [
    "y_pred = output.values"
   ]
  },
  {
   "cell_type": "code",
   "execution_count": 14,
   "metadata": {},
   "outputs": [
    {
     "data": {
      "text/plain": [
       "0.008424934070806788"
      ]
     },
     "execution_count": 14,
     "metadata": {},
     "output_type": "execute_result"
    }
   ],
   "source": [
    "from sklearn.metrics import precision_score\n",
    "precision_score(y_true, y_pred, average='weighted')"
   ]
  },
  {
   "cell_type": "code",
   "execution_count": 15,
   "metadata": {},
   "outputs": [
    {
     "data": {
      "text/plain": [
       "0.009178743961352657"
      ]
     },
     "execution_count": 15,
     "metadata": {},
     "output_type": "execute_result"
    }
   ],
   "source": [
    "precision_score(y_true, y_pred, average='macro')"
   ]
  },
  {
   "cell_type": "code",
   "execution_count": 16,
   "metadata": {},
   "outputs": [
    {
     "data": {
      "text/plain": [
       "0.009178743961352657"
      ]
     },
     "execution_count": 16,
     "metadata": {},
     "output_type": "execute_result"
    }
   ],
   "source": [
    "precision_score(y_true, y_pred, average='macro')"
   ]
  }
 ],
 "metadata": {
  "colab": {
   "authorship_tag": "ABX9TyM5VQFvcpjaZjRxPQ5x2vY6",
   "name": "linear-svm.ipynb",
   "provenance": []
  },
  "kernelspec": {
   "display_name": "Python 3",
   "language": "python",
   "name": "python3"
  },
  "language_info": {
   "codemirror_mode": {
    "name": "ipython",
    "version": 3
   },
   "file_extension": ".py",
   "mimetype": "text/x-python",
   "name": "python",
   "nbconvert_exporter": "python",
   "pygments_lexer": "ipython3",
   "version": "3.8.5"
  }
 },
 "nbformat": 4,
 "nbformat_minor": 1
}
