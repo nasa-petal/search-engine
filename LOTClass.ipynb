{
 "cells": [
  {
   "cell_type": "code",
   "execution_count": 17,
   "metadata": {
    "colab": {
     "base_uri": "https://localhost:8080/",
     "height": 206
    },
    "executionInfo": {
     "elapsed": 657,
     "status": "ok",
     "timestamp": 1638981157570,
     "user": {
      "displayName": "Brandon Ruffridge",
      "photoUrl": "https://lh3.googleusercontent.com/a/default-user=s64",
      "userId": "00595251339512511545"
     },
     "user_tz": 300
    },
    "id": "SOANKgADl3Wh",
    "outputId": "aa21bb1f-27e9-4273-f2a1-51e2012506b5"
   },
   "outputs": [
    {
     "data": {
      "text/html": [
       "<div>\n",
       "<style scoped>\n",
       "    .dataframe tbody tr th:only-of-type {\n",
       "        vertical-align: middle;\n",
       "    }\n",
       "\n",
       "    .dataframe tbody tr th {\n",
       "        vertical-align: top;\n",
       "    }\n",
       "\n",
       "    .dataframe thead th {\n",
       "        text-align: right;\n",
       "    }\n",
       "</style>\n",
       "<table border=\"1\" class=\"dataframe\">\n",
       "  <thead>\n",
       "    <tr style=\"text-align: right;\">\n",
       "      <th></th>\n",
       "      <th>y</th>\n",
       "      <th>text</th>\n",
       "    </tr>\n",
       "  </thead>\n",
       "  <tbody>\n",
       "    <tr>\n",
       "      <th>0</th>\n",
       "      <td>[1, 1, 0, 0, 0, 0, 0, 0, 0, 0]</td>\n",
       "      <td>building a home from foam tungara frog foam ne...</td>\n",
       "    </tr>\n",
       "    <tr>\n",
       "      <th>1</th>\n",
       "      <td>[0, 0, 1, 0, 0, 0, 0, 0, 0, 0]</td>\n",
       "      <td>a nocturnal mammal the greater mouse eared bat...</td>\n",
       "    </tr>\n",
       "    <tr>\n",
       "      <th>2</th>\n",
       "      <td>[0, 0, 1, 0, 0, 0, 0, 0, 0, 0]</td>\n",
       "      <td>polarization sensitivity in two species of cut...</td>\n",
       "    </tr>\n",
       "    <tr>\n",
       "      <th>3</th>\n",
       "      <td>[0, 1, 0, 1, 0, 0, 0, 0, 0, 0]</td>\n",
       "      <td>identification and characterization of a multi...</td>\n",
       "    </tr>\n",
       "    <tr>\n",
       "      <th>4</th>\n",
       "      <td>[0, 0, 0, 0, 1, 0, 0, 0, 0, 0]</td>\n",
       "      <td>differences in polysaccharide structure betwee...</td>\n",
       "    </tr>\n",
       "  </tbody>\n",
       "</table>\n",
       "</div>"
      ],
      "text/plain": [
       "                                y  \\\n",
       "0  [1, 1, 0, 0, 0, 0, 0, 0, 0, 0]   \n",
       "1  [0, 0, 1, 0, 0, 0, 0, 0, 0, 0]   \n",
       "2  [0, 0, 1, 0, 0, 0, 0, 0, 0, 0]   \n",
       "3  [0, 1, 0, 1, 0, 0, 0, 0, 0, 0]   \n",
       "4  [0, 0, 0, 0, 1, 0, 0, 0, 0, 0]   \n",
       "\n",
       "                                                text  \n",
       "0  building a home from foam tungara frog foam ne...  \n",
       "1  a nocturnal mammal the greater mouse eared bat...  \n",
       "2  polarization sensitivity in two species of cut...  \n",
       "3  identification and characterization of a multi...  \n",
       "4  differences in polysaccharide structure betwee...  "
      ]
     },
     "execution_count": 17,
     "metadata": {},
     "output_type": "execute_result"
    }
   ],
   "source": [
    "import pandas as pd\n",
    "import warnings\n",
    "warnings.filterwarnings(\"ignore\")\n",
    "\n",
    "# Read in the cleaned data\n",
    "data_prefix = 'https://raw.githubusercontent.com/nasa-petal/search-engine/main/data/'\n",
    "df = pd.read_csv(data_prefix + 'cleaned.csv')\n",
    "\n",
    "# convert array strings to actual arrays\n",
    "from ast import literal_eval\n",
    "df['y'] = df['y'].apply(literal_eval)\n",
    "df.head()\n",
    "\n",
    "# Drop all non-feature columns\n",
    "df = df[['y','text']]\n",
    "df.head()"
   ]
  },
  {
   "cell_type": "code",
   "execution_count": 18,
   "metadata": {},
   "outputs": [],
   "source": [
    "from sklearn.model_selection import train_test_split"
   ]
  },
  {
   "cell_type": "code",
   "execution_count": 24,
   "metadata": {},
   "outputs": [],
   "source": [
    "df['word_count'] = df.text.apply(lambda x: len(x.split(\" \")))"
   ]
  },
  {
   "cell_type": "code",
   "execution_count": 39,
   "metadata": {},
   "outputs": [],
   "source": [
    "df = df[df.word_count > 50]"
   ]
  },
  {
   "cell_type": "code",
   "execution_count": 49,
   "metadata": {},
   "outputs": [],
   "source": [
    "df = df[:500]"
   ]
  },
  {
   "cell_type": "code",
   "execution_count": 50,
   "metadata": {},
   "outputs": [],
   "source": [
    "X = df.text\n",
    "y = df.y"
   ]
  },
  {
   "cell_type": "code",
   "execution_count": 51,
   "metadata": {},
   "outputs": [],
   "source": [
    "X_train, X_test, y_train, y_test = train_test_split(X, y, test_size=0.2, random_state=42)"
   ]
  },
  {
   "cell_type": "code",
   "execution_count": 52,
   "metadata": {},
   "outputs": [],
   "source": [
    "lotclass_path = \"LOTClass/datasets/petal/\""
   ]
  },
  {
   "cell_type": "code",
   "execution_count": 53,
   "metadata": {},
   "outputs": [],
   "source": [
    "file = open(lotclass_path + \"/train.txt\", \"w+\")\n",
    "for x in X_train:\n",
    "    file.write(x.replace(\"||||| \", \"\"))\n",
    "    file.write(\"\\n\")\n",
    "file.close()"
   ]
  },
  {
   "cell_type": "code",
   "execution_count": 54,
   "metadata": {},
   "outputs": [],
   "source": [
    "file = open(lotclass_path + \"test.txt\", \"w+\")\n",
    "for x in X_test:\n",
    "    file.write(x.replace(\"||||| \", \"\"))\n",
    "    file.write(\"\\n\")\n",
    "file.close()"
   ]
  },
  {
   "cell_type": "code",
   "execution_count": 57,
   "metadata": {},
   "outputs": [],
   "source": [
    "file = open(lotclass_path + \"test_labels.txt\", \"w+\")\n",
    "for y in y_test:\n",
    "    file.write(str(y.index(1)))\n",
    "    file.write(\"\\n\")\n",
    "file.close()"
   ]
  },
  {
   "cell_type": "code",
   "execution_count": null,
   "metadata": {},
   "outputs": [],
   "source": [
    "## Run petal.sh to build the model"
   ]
  },
  {
   "cell_type": "code",
   "execution_count": null,
   "metadata": {
    "colab": {
     "base_uri": "https://localhost:8080/"
    },
    "executionInfo": {
     "elapsed": 888306,
     "status": "ok",
     "timestamp": 1638852041279,
     "user": {
      "displayName": "Brandon Ruffridge",
      "photoUrl": "https://lh3.googleusercontent.com/a/default-user=s64",
      "userId": "00595251339512511545"
     },
     "user_tz": 300
    },
    "id": "z8K-aaauiE8x",
    "outputId": "dbae981d-1b50-41fd-c7b9-4c77f0cdbfa0"
   },
   "outputs": [
    {
     "name": "stdout",
     "output_type": "stream",
     "text": [
      "The mean MAP score using nested cross-validation is: 0.627 +/- 0.018\n"
     ]
    }
   ],
   "source": [
    "from tempfile import mkdtemp\n",
    "from sklearn.multiclass import OneVsRestClassifier\n",
    "from sklearn.feature_extraction.text import TfidfVectorizer\n",
    "from sklearn.pipeline import Pipeline\n",
    "from sklearn.preprocessing import MaxAbsScaler\n",
    "#from lightning.classification import LinearSVC\n",
    "from sklearn.svm import LinearSVC\n",
    "from sklearn.model_selection import GridSearchCV, cross_val_score, cross_validate\n",
    "#from skmultilearn.model_selection import IterativeStratification\n",
    "from iterstrat.ml_stratifiers import MultilabelStratifiedKFold\n",
    "\n",
    "RANDOM_STATE = 42\n",
    "\n",
    "tfidf = TfidfVectorizer(strip_accents=\"ascii\", analyzer=\"char\", ngram_range=(1, 5), max_features=500000)\n",
    "scaler = MaxAbsScaler(copy=False)\n",
    "estimator = Pipeline(\n",
    "    [(\"tfidf\", tfidf), (\"scaler\", scaler), (\"svc\", OneVsRestClassifier(LinearSVC(loss=\"squared_hinge\", random_state=RANDOM_STATE)))],\n",
    "    memory=mkdtemp(),\n",
    ")\n",
    "p_grid = {\"svc__estimator__C\": [5e-4, 1e-3, 5e-3, 1e-2, 5e-2, 1e-1, 5e-1, 1e0, 5e0, 1e1, 5e1]} # \n",
    "\n",
    "#inner_cv = IterativeStratification(n_splits=4, order=1)\n",
    "#outer_cv = IterativeStratification(n_splits=4, order=1)\n",
    "inner_cv = MultilabelStratifiedKFold(n_splits=4, shuffle=True, random_state=RANDOM_STATE)\n",
    "outer_cv = MultilabelStratifiedKFold(n_splits=4, shuffle=True, random_state=RANDOM_STATE)\n",
    "scoring = ['average_precision', 'precision_macro', 'recall_macro', 'f1_macro', 'accuracy', 'multilabel_confusion_matrix', 'classification_report']\n",
    "\n",
    "# Nested CV with parameter optimization\n",
    "clf = GridSearchCV(estimator=estimator, scoring=\"average_precision\", param_grid=p_grid, cv=inner_cv)\n",
    "nested_score = cross_validate(clf, X=df[\"text\"], y=df[\"y\"].tolist(), scoring=\"average_precision\", cv=outer_cv)\n",
    "print(f\"The mean MAP score using nested cross-validation is: \"\n",
    "      f\"{nested_score['test_score'].mean():.3f} +/- {nested_score['test_score'].std():.3f}\")"
   ]
  }
 ],
 "metadata": {
  "colab": {
   "authorship_tag": "ABX9TyM5VQFvcpjaZjRxPQ5x2vY6",
   "name": "linear-svm.ipynb",
   "provenance": []
  },
  "kernelspec": {
   "display_name": "Python 3",
   "language": "python",
   "name": "python3"
  },
  "language_info": {
   "codemirror_mode": {
    "name": "ipython",
    "version": 3
   },
   "file_extension": ".py",
   "mimetype": "text/x-python",
   "name": "python",
   "nbconvert_exporter": "python",
   "pygments_lexer": "ipython3",
   "version": "3.8.5"
  }
 },
 "nbformat": 4,
 "nbformat_minor": 1
}
