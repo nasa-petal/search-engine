{
 "cells": [
  {
   "cell_type": "markdown",
   "metadata": {
    "id": "dK9k_zy0CkkA"
   },
   "source": [
    "# Data Analysis of the PeTaL Labeled Dataset"
   ]
  },
  {
   "cell_type": "markdown",
   "metadata": {
    "id": "l13-opvgCkkE"
   },
   "source": [
    "# Author(s)\n",
    "- Author1 = {\"name\": \"David Smith\", \"affiliation\": \"NASA GRC\", \"email\": \"dacasm@umich.edu\"}"
   ]
  },
  {
   "cell_type": "markdown",
   "metadata": {
    "id": "oM8If0YhCkkE"
   },
   "source": [
    "# Purpose\n",
    "The purpose of this notebook is to explore our labeled dataset and reveal any information which will help us improve the dataset and potentially increase the accuracy of our NLP labelers."
   ]
  },
  {
   "cell_type": "markdown",
   "metadata": {
    "id": "XV0qEKUICkkF"
   },
   "source": [
    "# Results"
   ]
  },
  {
   "cell_type": "markdown",
   "metadata": {
    "id": "6n0fJLfMCkkF"
   },
   "source": [
    "## 07-01-2021\n",
    "8% of our unique labels account for 27.29% of the total amount of labels used. Additionally 26% of our unique labels are used less than 10 times. Some of the best practices dictated from organizations such as Google are:\n",
    "- A dataset should have at least 10 examples of a label to ensure the model is able to learn it.\n",
    "- Labels should have a similar number of examples to prevent the model from overfitting."
   ]
  },
  {
   "cell_type": "markdown",
   "metadata": {
    "id": "gYipAMh4CkkG"
   },
   "source": [
    "### Suggested Next Steps\n",
    "It may help our model short-term to remove underused labels and to trim overused labels. The better solution is to balance out our dataset by increasing the amount of examples representing the underused labels and to simply have more data."
   ]
  },
  {
   "cell_type": "markdown",
   "metadata": {
    "id": "SpMnX2oFCkkG"
   },
   "source": [
    "# Setup"
   ]
  },
  {
   "cell_type": "markdown",
   "metadata": {
    "id": "6IvRozkICkkH"
   },
   "source": [
    "## Library Import"
   ]
  },
  {
   "cell_type": "code",
   "execution_count": 15,
   "metadata": {
    "executionInfo": {
     "elapsed": 287,
     "status": "ok",
     "timestamp": 1636551060887,
     "user": {
      "displayName": "Brandon Ruffridge",
      "photoUrl": "https://lh3.googleusercontent.com/a/default-user=s64",
      "userId": "00595251339512511545"
     },
     "user_tz": 300
    },
    "id": "bJKvyUffCkkH"
   },
   "outputs": [],
   "source": [
    "import numpy as np\n",
    "import pandas as pd\n",
    "import matplotlib.pyplot as plt\n",
    "import os\n",
    "import re"
   ]
  },
  {
   "cell_type": "markdown",
   "metadata": {
    "id": "1TWcEJ3uCkkJ"
   },
   "source": [
    "# Data Processing and Analysis"
   ]
  },
  {
   "cell_type": "markdown",
   "metadata": {
    "id": "coUcAxctCkkJ"
   },
   "source": [
    "## Reformat Data"
   ]
  },
  {
   "cell_type": "markdown",
   "metadata": {
    "id": "pnJjd9zcCkkK"
   },
   "source": [
    "Convert data in to Pandas dataframes."
   ]
  },
  {
   "cell_type": "code",
   "execution_count": 90,
   "metadata": {
    "executionInfo": {
     "elapsed": 721,
     "status": "ok",
     "timestamp": 1636553001008,
     "user": {
      "displayName": "Brandon Ruffridge",
      "photoUrl": "https://lh3.googleusercontent.com/a/default-user=s64",
      "userId": "00595251339512511545"
     },
     "user_tz": 300
    },
    "id": "Zk74gf7tCkkK"
   },
   "outputs": [],
   "source": [
    "url = 'https://raw.githubusercontent.com/nasa-petal/petal-labeler-data-pipeline/master/FinalFile/golden.json'\n",
    "df = pd.read_json(url, orient='columns')\n",
    "df.fillna('[]', inplace = True)"
   ]
  },
  {
   "cell_type": "code",
   "execution_count": 91,
   "metadata": {
    "executionInfo": {
     "elapsed": 163,
     "status": "ok",
     "timestamp": 1636553002252,
     "user": {
      "displayName": "Brandon Ruffridge",
      "photoUrl": "https://lh3.googleusercontent.com/a/default-user=s64",
      "userId": "00595251339512511545"
     },
     "user_tz": 300
    },
    "id": "60OU3ms6E6mZ"
   },
   "outputs": [],
   "source": [
    "# remap level1 labels\n",
    "df.level1 = df.level1.replace({'physically_assemble/disassemble' : 'physically_assemble_or_disassemble',\n",
    "                               'sense,_send,_or_process_information': 'sense_send_or_process_information',\n",
    "                               'maintain_ecological_community':'sustain_ecological_community',\n",
    "                               'manipulate_solids,_liquids,_gases,_or_energy':'manipulate_solids_liquids_gases_or_energy'}, regex=True)\n",
    "\n",
    "# remove rows with no level1 labels, no paper ids, or no titles\n",
    "df = df[df['level1'] != '[]']\n",
    "df = df[df['level1'] != \"['']\"]\n",
    "df = df[df['paper'] != '']\n",
    "df = df[df['title'] != '']\n",
    "df = df[df['title'] != '[]']\n",
    "df = df[df['title'] != \"['']\"]\n",
    "df\n",
    "\n",
    "# convert level1 array strings to actual arrays\n",
    "from ast import literal_eval\n",
    "df['level1'] = df['level1'].apply(literal_eval)"
   ]
  },
  {
   "cell_type": "markdown",
   "metadata": {
    "id": "ScWMQcO_CkkK"
   },
   "source": [
    "Pull all level I labels into a flat list."
   ]
  },
  {
   "cell_type": "code",
   "execution_count": 92,
   "metadata": {
    "executionInfo": {
     "elapsed": 125,
     "status": "ok",
     "timestamp": 1636553008555,
     "user": {
      "displayName": "Brandon Ruffridge",
      "photoUrl": "https://lh3.googleusercontent.com/a/default-user=s64",
      "userId": "00595251339512511545"
     },
     "user_tz": 300
    },
    "id": "c2dWRNhLCkkL"
   },
   "outputs": [],
   "source": [
    "taxonomy_labels = ['protect_from_harm', 'physically_assemble_or_disassemble', 'chemically_modify_or_change_energy_state', 'attach', 'change_size_or_color', 'process_resources', 'move', 'sense_send_or_process_information', 'maintain_structural_integrity', 'sustain_ecological_community']"
   ]
  },
  {
   "cell_type": "markdown",
   "metadata": {
    "id": "T49gwWiaCkkL"
   },
   "source": [
    "Create object which will contain additionally mined data."
   ]
  },
  {
   "cell_type": "code",
   "execution_count": null,
   "metadata": {},
   "outputs": [],
   "source": [
    "from collections import defaultdict"
   ]
  },
  {
   "cell_type": "code",
   "execution_count": 93,
   "metadata": {
    "executionInfo": {
     "elapsed": 2,
     "status": "ok",
     "timestamp": 1636553010782,
     "user": {
      "displayName": "Brandon Ruffridge",
      "photoUrl": "https://lh3.googleusercontent.com/a/default-user=s64",
      "userId": "00595251339512511545"
     },
     "user_tz": 300
    },
    "id": "tBy2V-8zCkkL"
   },
   "outputs": [],
   "source": [
    "analysis_object = {}\n",
    "label_info = {\n",
    "    \"Absolute Label Frequency\": defaultdict(int),\n",
    "    \"Relative Label Frequency\": defaultdict(int)\n",
    "}"
   ]
  },
  {
   "cell_type": "markdown",
   "metadata": {
    "id": "k3mBbTyLCkkM"
   },
   "source": [
    "Mine data to find:\n",
    "- Absolute Label Frequency\n",
    "- Relative Label Frequency\n",
    "- Total Number of Labels\n",
    "- Number of Words in Each Label"
   ]
  },
  {
   "cell_type": "code",
   "execution_count": 94,
   "metadata": {
    "executionInfo": {
     "elapsed": 116,
     "status": "ok",
     "timestamp": 1636553087053,
     "user": {
      "displayName": "Brandon Ruffridge",
      "photoUrl": "https://lh3.googleusercontent.com/a/default-user=s64",
      "userId": "00595251339512511545"
     },
     "user_tz": 300
    },
    "id": "TGrN-UPyCkkM"
   },
   "outputs": [],
   "source": [
    "# Iterate through each row within our csv\n",
    "\n",
    "for index, row in df.iterrows():\n",
    "\n",
    "    # Look through each label and increment label counter if found\n",
    "    for label in row['level1']:\n",
    "        if (label in taxonomy_labels):\n",
    "            label_info[\"Absolute Label Frequency\"][label] += 1\n",
    "\n",
    "# Compute Total Number of Labels and Relative Label Frequency\n",
    "label_info[\"Total Number of Labels\"] = sum(label_info[\"Absolute Label Frequency\"].values())\n",
    "\n",
    "for label in label_info[\"Absolute Label Frequency\"].keys():\n",
    "    label_info[\"Relative Label Frequency\"][label] = round((label_info[\"Absolute Label Frequency\"][label] / label_info[\"Total Number of Labels\"]), 4) * 100"
   ]
  },
  {
   "cell_type": "markdown",
   "metadata": {
    "id": "UhR9POprCkkN"
   },
   "source": [
    "Convert object into dataframe"
   ]
  },
  {
   "cell_type": "code",
   "execution_count": 95,
   "metadata": {
    "executionInfo": {
     "elapsed": 285,
     "status": "ok",
     "timestamp": 1636553089309,
     "user": {
      "displayName": "Brandon Ruffridge",
      "photoUrl": "https://lh3.googleusercontent.com/a/default-user=s64",
      "userId": "00595251339512511545"
     },
     "user_tz": 300
    },
    "id": "_2T0fgg5CkkN"
   },
   "outputs": [],
   "source": [
    "# Drop Total Number of Labels as it is an aggregate value.\n",
    "label_dataframe = pd.DataFrame(label_info).drop(\"Total Number of Labels\", axis = 1)\n",
    "\n",
    "# Count and store the amount of words in each label\n",
    "label_dataframe[\"Label Length\"] = label_dataframe.index.map(lambda label: len(re.split(\"\\W\", label)))"
   ]
  },
  {
   "cell_type": "markdown",
   "metadata": {
    "id": "bMqDc_YGCkkN"
   },
   "source": [
    "## Visualization and Metrics"
   ]
  },
  {
   "cell_type": "markdown",
   "metadata": {
    "id": "iV62tfmcCkkN"
   },
   "source": [
    "Frequency of Absolute Label Counts histogram depicts the count of the frequencies of labels used (e.x. A frequency of 40 and a range of 0-25 means that 40 unique labels were used between 0 and 25 times)."
   ]
  },
  {
   "cell_type": "code",
   "execution_count": 96,
   "metadata": {
    "colab": {
     "base_uri": "https://localhost:8080/",
     "height": 312
    },
    "executionInfo": {
     "elapsed": 341,
     "status": "ok",
     "timestamp": 1636553095755,
     "user": {
      "displayName": "Brandon Ruffridge",
      "photoUrl": "https://lh3.googleusercontent.com/a/default-user=s64",
      "userId": "00595251339512511545"
     },
     "user_tz": 300
    },
    "id": "nmf_mVmHCkkO",
    "outputId": "0735df6f-5f85-481c-a5dc-f720695593e7"
   },
   "outputs": [
    {
     "data": {
      "text/plain": [
       "Text(0.5, 0, 'Label Counts')"
      ]
     },
     "execution_count": 96,
     "metadata": {},
     "output_type": "execute_result"
    },
    {
     "data": {
      "image/png": "[encoded data removed]",
      "text/plain": [
       "<Figure size 432x288 with 1 Axes>"
      ]
     },
     "metadata": {
      "needs_background": "light"
     },
     "output_type": "display_data"
    }
   ],
   "source": [
    "# Plot a histogram depicting the counts of frequencies of labels used.\n",
    "fig = label_dataframe[\"Absolute Label Frequency\"].plot.hist(bins = 22, alpha=0.85, title = \"Frequency of Absolute Label Counts\")\n",
    "plt.xlabel(\"Label Counts\")"
   ]
  },
  {
   "cell_type": "markdown",
   "metadata": {
    "id": "55dODNLwCkkP"
   },
   "source": [
    "Frequency of Labels bar chart depicts the number of times each label appears within the dataset. It also displays the 25%, 50% and 75 quantiles (q1, q2, q3) and shows the average magnitude of each bar."
   ]
  },
  {
   "cell_type": "code",
   "execution_count": 97,
   "metadata": {
    "colab": {
     "base_uri": "https://localhost:8080/",
     "height": 1000
    },
    "executionInfo": {
     "elapsed": 719,
     "status": "ok",
     "timestamp": 1636553142658,
     "user": {
      "displayName": "Brandon Ruffridge",
      "photoUrl": "https://lh3.googleusercontent.com/a/default-user=s64",
      "userId": "00595251339512511545"
     },
     "user_tz": 300
    },
    "id": "bXCYrVAgCkkP",
    "outputId": "685fbb65-097e-46f1-8410-4a53cb66b9d6"
   },
   "outputs": [
    {
     "data": {
      "image/png": "[encoded data removed]",
      "text/plain": [
       "<Figure size 1332x1620 with 1 Axes>"
      ]
     },
     "metadata": {},
     "output_type": "display_data"
    }
   ],
   "source": [
    "fig = label_dataframe[\"Absolute Label Frequency\"].sort_values().plot.barh(width=0.5, fontsize=12)\n",
    "label_quantiles = label_dataframe[\"Absolute Label Frequency\"].quantile([0.25, 0.5, 0.75])\n",
    "fig.axvline(label_dataframe[\"Absolute Label Frequency\"].mean(), color=\"red\", linewidth=3)\n",
    "fig.axvline(label_quantiles[0.25], color=\"g\", linewidth=3)\n",
    "fig.axvline(label_quantiles[0.5], color=\"b\", linewidth=3)\n",
    "fig.axvline(label_quantiles[0.75], color=\"orange\", linewidth=3)\n",
    "\n",
    "legend_elements = [plt.Line2D([0], [0], color='r', lw=4, label='Mean'),\n",
    "                     plt.Line2D([0], [0], color='g', lw=4, label='25% Quantile'),\n",
    "                     plt.Line2D([0], [0], color='b', lw=4, label='50% Quantile'),\n",
    "                     plt.Line2D([0], [0], color='orange', lw=4, label='75% Quantile')]\n",
    "\n",
    "plt.legend(handles=legend_elements, loc='upper right', fontsize=14)\n",
    "plt.gcf().set_size_inches(18.5, 22.5)\n",
    "plt.ylabel(\"Labels\", fontsize=14)\n",
    "plt.xlabel(\"Times Repeated in Dataset\", fontsize=14)\n",
    "plt.title(\"Frequency of Labels\", fontsize=20)\n",
    "plt.tight_layout()\n",
    "\n",
    "# Save Figure\n",
    "fig.figure.patch.set_facecolor('#FFF')\n",
    "#plt.savefig(\"./freq_of_label_counts.png\", edgecolor=\"black\")\n",
    "\n",
    "plt.show()"
   ]
  },
  {
   "cell_type": "code",
   "execution_count": 98,
   "metadata": {
    "colab": {
     "base_uri": "https://localhost:8080/"
    },
    "executionInfo": {
     "elapsed": 131,
     "status": "ok",
     "timestamp": 1636553180257,
     "user": {
      "displayName": "Brandon Ruffridge",
      "photoUrl": "https://lh3.googleusercontent.com/a/default-user=s64",
      "userId": "00595251339512511545"
     },
     "user_tz": 300
    },
    "id": "dn0FblmICkkP",
    "outputId": "a38fea5f-23dd-4e5c-978f-680c2f686ec8"
   },
   "outputs": [
    {
     "name": "stdout",
     "output_type": "stream",
     "text": [
      "Total number of unique labels (will be known as x): 10\n",
      "Total number of used labels (will be known as y): 1563\n",
      "\n",
      "Count of unique labels used more than 50 times: 10\n",
      "Total count of labels used more than 50 times (will be known as a): 1563\n",
      "a/y =  100.00%\n",
      "\n",
      "Count of unique labels used less than or equal to 50 times: 0\n",
      "Total count of labels used less than 50 times (will be known as b): 0\n",
      "b/y = 0.00%\n",
      "\n",
      "Count of unique labels used less than 10 times (will be known as c): 0\n",
      "c/x = 0.00%\n"
     ]
    }
   ],
   "source": [
    "# Compare the number of unique labels and their total relative percentage between the upper and lower data in terms of usage.\n",
    "upper_half_label_dataframe = label_dataframe[\"Absolute Label Frequency\"][\n",
    "    label_dataframe[\"Absolute Label Frequency\"] > 50]\n",
    "lower_half_label_dataframe = label_dataframe[\"Absolute Label Frequency\"][\n",
    "    label_dataframe[\"Absolute Label Frequency\"] <= 50]\n",
    "low_rep_label_dataframe = label_dataframe[\"Absolute Label Frequency\"][\n",
    "    label_dataframe[\"Absolute Label Frequency\"] < 10]\n",
    "\n",
    "print(\"Total number of unique labels (will be known as x): {}\".format(len(taxonomy_labels)))\n",
    "print(\"Total number of used labels (will be known as y): {}\".format(\n",
    "    label_info[\"Total Number of Labels\"]))\n",
    "\n",
    "print(\"\\nCount of unique labels used more than 50 times: {}\".format(\n",
    "    upper_half_label_dataframe.shape[0]))\n",
    "print(\"Total count of labels used more than 50 times (will be known as a): {}\".format(\n",
    "    upper_half_label_dataframe.sum()))\n",
    "print(\"a/y =  {:0.2%}\".format(\n",
    "    upper_half_label_dataframe.sum() / label_info['Total Number of Labels']))\n",
    "\n",
    "print(\"\\nCount of unique labels used less than or equal to 50 times: {}\".format(\n",
    "    lower_half_label_dataframe.shape[0]))\n",
    "print(\"Total count of labels used less than 50 times (will be known as b): {}\".format(\n",
    "    lower_half_label_dataframe.sum()))\n",
    "print(\"b/y = {:0.2%}\".format(\n",
    "    lower_half_label_dataframe.sum() / label_info['Total Number of Labels']))\n",
    "\n",
    "print(\"\\nCount of unique labels used less than 10 times (will be known as c): {}\".format(\n",
    "    low_rep_label_dataframe.shape[0]))\n",
    "print(\"c/x = {:0.2%}\".format(\n",
    "    low_rep_label_dataframe.shape[0] / len(taxonomy_labels)))\n"
   ]
  },
  {
   "cell_type": "markdown",
   "metadata": {
    "id": "-xaLBsK3CkkP"
   },
   "source": [
    "## Save Data"
   ]
  },
  {
   "cell_type": "code",
   "execution_count": 99,
   "metadata": {
    "id": "lZmI7e6oCkkQ"
   },
   "outputs": [],
   "source": [
    "label_dataframe.to_csv(\"./label_metrics.csv\")"
   ]
  },
  {
   "cell_type": "markdown",
   "metadata": {
    "id": "j-cGI2aPCkkQ"
   },
   "source": [
    "# References\n",
    "- https://cloud.google.com/natural-language/automl/docs/beginners-guide#include-enough-labeled-examples-in-each-category\n",
    "    - Google document dictating the best practices in NLP."
   ]
  }
 ],
 "metadata": {
  "colab": {
   "name": "Data-Analaysis-of-the-PeTaL-Labeled-Dataset.ipynb",
   "provenance": []
  },
  "interpreter": {
   "hash": "e432f7edd195fc9b738354aa5ede55a680ce58f2aecd13da3c41273251e676ec"
  },
  "kernelspec": {
   "display_name": "Python 3",
   "language": "python",
   "name": "python3"
  },
  "language_info": {
   "codemirror_mode": {
    "name": "ipython",
    "version": 3
   },
   "file_extension": ".py",
   "mimetype": "text/x-python",
   "name": "python",
   "nbconvert_exporter": "python",
   "pygments_lexer": "ipython3",
   "version": "3.8.8"
  }
 },
 "nbformat": 4,
 "nbformat_minor": 1
}
